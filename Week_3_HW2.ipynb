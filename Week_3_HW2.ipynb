{
  "nbformat": 4,
  "nbformat_minor": 0,
  "metadata": {
    "kernelspec": {
      "display_name": "Python 3",
      "language": "python",
      "name": "python3"
    },
    "language_info": {
      "codemirror_mode": {
        "name": "ipython",
        "version": 3
      },
      "file_extension": ".py",
      "mimetype": "text/x-python",
      "name": "python",
      "nbconvert_exporter": "python",
      "pygments_lexer": "ipython3",
      "version": "3.7.4"
    },
    "colab": {
      "name": "Week_3_HW2.ipynb",
      "provenance": [],
      "collapsed_sections": [],
      "include_colab_link": true
    }
  },
  "cells": [
    {
      "cell_type": "markdown",
      "metadata": {
        "id": "view-in-github",
        "colab_type": "text"
      },
      "source": [
        "<a href=\"https://colab.research.google.com/github/richard-c-gill/Koans-DRAFT/blob/master/Week_3_HW2.ipynb\" target=\"_parent\"><img src=\"https://colab.research.google.com/assets/colab-badge.svg\" alt=\"Open In Colab\"/></a>"
      ]
    },
    {
      "cell_type": "markdown",
      "metadata": {
        "id": "fDE2iVekALyM",
        "colab_type": "text"
      },
      "source": [
        "<p><b> HomeWork - 2 </b></p>"
      ]
    },
    {
      "cell_type": "markdown",
      "metadata": {
        "id": "cXKLgPbyALyQ",
        "colab_type": "text"
      },
      "source": [
        "<p><b> A1) List</b> Write a program that does following steps: <br>\n",
        "    a) Create the list colors that includes the items \"Red\", \"Green\", and \"Blue\". <br>\n",
        "    b) Adds the item \"Purple\" to the end of the list colors.<br>\n",
        "    c) Also add the item \"Rose\" in the second location of the list. <br>\n",
        "    d) Deletes the item \"Red\" from the colos list. <br>\n",
        "    e) Prints the last two items in the colors list using negative indexing. <br>\n",
        "    f) Copies the list colors by <b> reference </b> into new list - color1 and print this list.\n",
        "</p>"
      ]
    },
    {
      "cell_type": "code",
      "metadata": {
        "id": "ZdV13o8uALyR",
        "colab_type": "code",
        "colab": {
          "base_uri": "https://localhost:8080/",
          "height": 52
        },
        "outputId": "2e09e723-522c-443f-9863-31aa4f9e071e"
      },
      "source": [
        "colors = [\"Red\", \"Green\", \"Blue\"]\n",
        "colors.append(\"Purple\")\n",
        "colors.insert(1, \"Rose\")\n",
        "colors.remove(\"Red\")\n",
        "print(colors[-1], colors[-2])\n",
        "color1 = colors[:]\n",
        "print(color1)"
      ],
      "execution_count": 4,
      "outputs": [
        {
          "output_type": "stream",
          "text": [
            "Purple Blue\n",
            "['Rose', 'Green', 'Blue', 'Purple']\n"
          ],
          "name": "stdout"
        }
      ]
    },
    {
      "cell_type": "markdown",
      "metadata": {
        "id": "rbX8JLjRALyg",
        "colab_type": "text"
      },
      "source": [
        "<p> <b>A2) Array </b> Write a program that creates the array (names) that includes the items (\"Mike\", \"John\", \"Zara\"). <br>\n",
        "Then checks if the array has dplicate values. </p>\n",
        "\n",
        "Hint: Use the index to compare the items. You have to print the result of 3 comparisons."
      ]
    },
    {
      "cell_type": "code",
      "metadata": {
        "id": "IBjbTChAALyj",
        "colab_type": "code",
        "colab": {
          "base_uri": "https://localhost:8080/",
          "height": 69
        },
        "outputId": "82f62b6a-20d5-413e-e7ce-a80caf291490"
      },
      "source": [
        "names = [\"Mike\", \"John\", \"Zara\"]\n",
        "for elem in names:\n",
        "        if names.count(elem) > 1:\n",
        "          print(\"There is a duplicate\")\n",
        "        else:\n",
        "          print(\"no duplicate\")"
      ],
      "execution_count": 13,
      "outputs": [
        {
          "output_type": "stream",
          "text": [
            "no duplicate\n",
            "no duplicate\n",
            "no duplicate\n"
          ],
          "name": "stdout"
        }
      ]
    },
    {
      "cell_type": "markdown",
      "metadata": {
        "id": "FWsjK8Q7ALyy",
        "colab_type": "text"
      },
      "source": [
        "<p> <b>A3) Tuples </b> Write a tuple that is named tuple1 and that contains the items ('John', True, 0, 1.6) and finds the index of the item 1.6 in the tuple tuple1. </p>"
      ]
    },
    {
      "cell_type": "code",
      "metadata": {
        "id": "ZAMzQ3hpALyz",
        "colab_type": "code",
        "colab": {
          "base_uri": "https://localhost:8080/",
          "height": 34
        },
        "outputId": "52628dd5-ba30-4f46-dc67-b16c54e28f6a"
      },
      "source": [
        "tuple1 = ('John', True, 0, 1.6)\n",
        "print(tuple1.index(1.6))"
      ],
      "execution_count": 15,
      "outputs": [
        {
          "output_type": "stream",
          "text": [
            "3\n"
          ],
          "name": "stdout"
        }
      ]
    },
    {
      "cell_type": "markdown",
      "metadata": {
        "id": "GpP4nM6SALy6",
        "colab_type": "text"
      },
      "source": [
        "<p> <b>A4) Tuples</b> Write a program that converts the tuple words into a string.\n",
        "words = {'Hello', 'Python'} <br>\n",
        "    Hint: use join() method. </p>"
      ]
    },
    {
      "cell_type": "code",
      "metadata": {
        "id": "LP-7agzpALy7",
        "colab_type": "code",
        "colab": {
          "base_uri": "https://localhost:8080/",
          "height": 34
        },
        "outputId": "1b8ed61c-a226-4f64-8d46-592bcf71ebf8"
      },
      "source": [
        "tuple2 = ('Hello', 'Python')\n",
        "print(' '.join(tuple2))"
      ],
      "execution_count": 19,
      "outputs": [
        {
          "output_type": "stream",
          "text": [
            "Hello Python\n"
          ],
          "name": "stdout"
        }
      ]
    },
    {
      "cell_type": "markdown",
      "metadata": {
        "id": "QU3ZF9w8ALzD",
        "colab_type": "text"
      },
      "source": [
        "<p><b> A5) Set </b> Write a program that displays the union and the intersection between the following two sets: <br>\n",
        "    set1 -> {1,2,3,4,5} <br>\n",
        "    set2 -> {2,3,8,10} <br>\n",
        "    and to display if set1 is a subset of set2.\n",
        "</p>"
      ]
    },
    {
      "cell_type": "code",
      "metadata": {
        "id": "X-B91_1GALzE",
        "colab_type": "code",
        "colab": {
          "base_uri": "https://localhost:8080/",
          "height": 69
        },
        "outputId": "e39d8473-c659-499c-d52f-a97073778fd9"
      },
      "source": [
        "set1 = {1,2,3,4,5}\n",
        "set2 = {2,3,8,10}\n",
        "\n",
        "print(\"This is the union:\", set1.union(set2))\n",
        "print(\"this is the intersection:\", set1.intersection(set2))\n",
        "print(\"this is the subset:\", set(set1) <= set(set2))"
      ],
      "execution_count": 27,
      "outputs": [
        {
          "output_type": "stream",
          "text": [
            "This is the union: {1, 2, 3, 4, 5, 8, 10}\n",
            "this is the intersection: {2, 3}\n",
            "this is the subset: False\n"
          ],
          "name": "stdout"
        }
      ]
    },
    {
      "cell_type": "markdown",
      "metadata": {
        "id": "0-b4NCqkALzL",
        "colab_type": "text"
      },
      "source": [
        "<p> <b>A6) Baseball Statistics</b> Write a program that displays mean, median, min and max for <i> atBats</i> and <i>hits</i> from <i>topHitter</i> disctionary \n",
        "</p>"
      ]
    },
    {
      "cell_type": "code",
      "metadata": {
        "id": "tu9Z7HRDALzM",
        "colab_type": "code",
        "colab": {
          "base_uri": "https://localhost:8080/",
          "height": 191
        },
        "outputId": "6fee6b6b-0faa-499e-e2b5-2a111352677a"
      },
      "source": [
        "import statistics\n",
        "\n",
        "topHitters = {\"Gehring\":{\"atBats\": 8061, \"hits\": 2721},\n",
        "             \"Ruth\":{\"atBats\": 8399, \"hits\": 2873},\n",
        "             \"Williams\":{\"atBats\": 7706, \"hits\": 2654}}\n",
        "\n",
        "batList = []\n",
        "hitList = []\n",
        "for i in topHitters:\n",
        "  batList.append(topHitters[i][\"atBats\"])\n",
        "  hitList.append(topHitters[i][\"hits\"])\n",
        "\n",
        "print(\"Below is atBats\")\n",
        "print(\"this is min:\", min(batList))\n",
        "print('This is max:',max(batList))\n",
        "print('This is average:', sum(batList)/len(batList))\n",
        "print(\"this is median:\", statistics.median(batList))\n",
        "\n",
        "print(\"Below is the Hits\")\n",
        "print(min(hitList))\n",
        "print(max(hitList))\n",
        "print(sum(hitList)/len(hitList))\n",
        "print(statistics.median(hitList))\n"
      ],
      "execution_count": 65,
      "outputs": [
        {
          "output_type": "stream",
          "text": [
            "Below is atBats\n",
            "this is min: 7706\n",
            "This is max: 8399\n",
            "This is average: 8055.333333333333\n",
            "this is median: 8061\n",
            "Below is the Hits\n",
            "2654\n",
            "2873\n",
            "2749.3333333333335\n",
            "2721\n"
          ],
          "name": "stdout"
        }
      ]
    },
    {
      "cell_type": "markdown",
      "metadata": {
        "id": "4APOB-AIALzS",
        "colab_type": "text"
      },
      "source": [
        "<p> <b>A7) Car Loan </b> If <i>A</i> dollars is borrowed at <i>r%</i> interest compounded monthly to purchase a car with monthly payments for <i>n</i> years, then the monthly payment is given by the formula: <br>\n",
        "monthly payment = (i * A)/(1 - (1 + i)^(-12 * n)) <br>\n",
        "where <i>i = r/1200 </i>. Write a program that calculate monthly payment after the user provides the amount of the loan, the interest rate, and the numbers of years. <br>\n",
        "For example: <br>\n",
        "Enter amount of loan: 12000<br>\n",
        "Enter interest rate (%): 6.4 <br>\n",
        "Enter number of years: 5 <br>\n",
        "Monthly payment: $234.23    \n",
        "</p>"
      ]
    },
    {
      "cell_type": "code",
      "metadata": {
        "id": "juwPRqyWALzT",
        "colab_type": "code",
        "colab": {
          "base_uri": "https://localhost:8080/",
          "height": 86
        },
        "outputId": "75aac083-4420-47d5-8672-98a5a97b58f1"
      },
      "source": [
        "loanAmount = int(input(\"enter in loan amount:\"))\n",
        "interestRate = float(input(\"enter in interest rate:\"))\n",
        "years = int(input(\"enter in number of years:\"))\n",
        "monthlyPayment = ((interestRate/1200) * loanAmount) / (1-(1+(interestRate/1200))**(-12 * years))\n",
        "print(\"your monthly payment is:\", \"${:,.2f}\".format(monthlyPayment))"
      ],
      "execution_count": 32,
      "outputs": [
        {
          "output_type": "stream",
          "text": [
            "enter in loan amount:12000\n",
            "enter in interest rate:6.4\n",
            "enter in number of years:5\n",
            "your monthly payment is: $234.23\n"
          ],
          "name": "stdout"
        }
      ]
    }
  ]
}